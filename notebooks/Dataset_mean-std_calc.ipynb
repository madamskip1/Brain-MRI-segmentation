{
 "cells": [
  {
   "cell_type": "code",
   "execution_count": 1,
   "id": "4d85c66c",
   "metadata": {},
   "outputs": [],
   "source": [
    "import torch\n",
    "from torchvision.datasets import ImageFolder\n",
    "from torch.utils.data import DataLoader\n",
    "import sys\n",
    "sys.path.append(\"..\")\n",
    "from BrainTumorDataset import BrainTumorDataset"
   ]
  },
  {
   "cell_type": "code",
   "execution_count": 2,
   "id": "0fcedb04",
   "metadata": {},
   "outputs": [],
   "source": [
    "dataset = BrainTumorDataset(\"../dataset/images/\", \"../dataset/masks/\")\n",
    "data_loader = DataLoader(dataset, batch_size = 64, shuffle = False, num_workers = 0)"
   ]
  },
  {
   "cell_type": "code",
   "execution_count": 3,
   "id": "b915e2da",
   "metadata": {},
   "outputs": [],
   "source": [
    "image_channels_sum = 0\n",
    "mask_channels_sum = 0\n",
    "image_channels_squared_sum = 0\n",
    "mask_channels_squared_sum = 0\n",
    "num_batches = 0 "
   ]
  },
  {
   "cell_type": "code",
   "execution_count": 4,
   "id": "a596f018",
   "metadata": {},
   "outputs": [],
   "source": [
    "for image, mask in data_loader:\n",
    "    image_channels_sum += torch.mean(image, dim = [0,2,3])\n",
    "    mask_channels_sum += torch.mean(mask, dim = [0,2,3])\n",
    "    image_channels_squared_sum += torch.mean(image**2, dim = [0,2,3])\n",
    "    mask_channels_squared_sum += torch.mean(mask**2, dim = [0,2,3])\n",
    "    num_batches += 1\n",
    "    \n",
    "image_mean = image_channels_sum / num_batches\n",
    "mask_mean = mask_channels_sum / num_batches\n",
    "image_std =(image_channels_squared_sum / num_batches - image_mean**2) ** 0.5\n",
    "mask_std =(mask_channels_squared_sum / num_batches - mask_mean**2) ** 0.5"
   ]
  },
  {
   "cell_type": "code",
   "execution_count": 5,
   "id": "db1ed529",
   "metadata": {},
   "outputs": [
    {
     "data": {
      "text/plain": [
       "tensor([0.0913, 0.0828, 0.0869])"
      ]
     },
     "execution_count": 5,
     "metadata": {},
     "output_type": "execute_result"
    }
   ],
   "source": [
    "image_mean"
   ]
  },
  {
   "cell_type": "code",
   "execution_count": 6,
   "id": "2e4eb978",
   "metadata": {},
   "outputs": [
    {
     "data": {
      "text/plain": [
       "tensor([0.1349, 0.1234, 0.1288])"
      ]
     },
     "execution_count": 6,
     "metadata": {},
     "output_type": "execute_result"
    }
   ],
   "source": [
    "image_std"
   ]
  },
  {
   "cell_type": "code",
   "execution_count": 7,
   "id": "63ba60d7",
   "metadata": {},
   "outputs": [
    {
     "data": {
      "text/plain": [
       "tensor([0.0102])"
      ]
     },
     "execution_count": 7,
     "metadata": {},
     "output_type": "execute_result"
    }
   ],
   "source": [
    "mask_mean"
   ]
  },
  {
   "cell_type": "code",
   "execution_count": 8,
   "id": "115f5e8d",
   "metadata": {},
   "outputs": [
    {
     "data": {
      "text/plain": [
       "tensor([0.1005])"
      ]
     },
     "execution_count": 8,
     "metadata": {},
     "output_type": "execute_result"
    }
   ],
   "source": [
    "mask_std"
   ]
  }
 ],
 "metadata": {
  "kernelspec": {
   "display_name": "Python 3 (ipykernel)",
   "language": "python",
   "name": "python3"
  },
  "language_info": {
   "codemirror_mode": {
    "name": "ipython",
    "version": 3
   },
   "file_extension": ".py",
   "mimetype": "text/x-python",
   "name": "python",
   "nbconvert_exporter": "python",
   "pygments_lexer": "ipython3",
   "version": "3.10.2"
  }
 },
 "nbformat": 4,
 "nbformat_minor": 5
}
